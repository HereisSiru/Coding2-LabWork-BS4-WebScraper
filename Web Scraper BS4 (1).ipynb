{
 "cells": [
  {
   "cell_type": "code",
   "execution_count": null,
   "metadata": {},
   "outputs": [],
   "source": [
    "# 技术点1、requests发送请求\n",
    "# 2、BeautifulSoup解析整个页面源代码\n",
    "# 爬取图片网站 发送请求到服务器\n",
    "\n",
    "import requests\n",
    "from bs4 import BeautifulSoup\n",
    "import ssl\n",
    "ssl._create_default_https_context = ssl._create_unverified_context\n",
    "\n",
    "resp = requests.get (\"https://www.umei.cc/tupiandaquan/dongwutupian/\")\n",
    "resp. encoding = 'utf-8'\n",
    "main_page = BeautifulSoup (resp.text, \"html.parser\")\n",
    "alist = main_page.find(\"div\", attrs={\"class\": \"TypeList\"}).find_all(\"a\", attrs={\"class\": \"TypeBigPics\"})\n",
    "\n",
    "n=1\n",
    "for a in alist:\n",
    "        href = a.get(\"href\")\n",
    "        resp1 = requests.get(href)\n",
    "        resp1.encoding = \"utf-8\"\n",
    "        child_page = BeautifulSoup(resp1.text, \"html.parser\")\n",
    "        src = child_page.find(\"div\", attrs={\"class\": \"ImageBody\"}).find(\"img\").get(\"src\")\n",
    "    \n",
    "        #发送请求到服务器 保存图片到本地\n",
    "        \n",
    "        #创建文件\n",
    "        \n",
    "        f = open(\"my_%s.jpg\" %n, mode=\"wb\")\n",
    "        f.write(requests.get(src). content),\n",
    "        print(\"hi, you download a picture\")\n",
    "\n",
    "        \n",
    "        requests.get(src). content\n",
    "        n += 1\n",
    "        "
   ]
  }
 ],
 "metadata": {
  "kernelspec": {
   "display_name": "Python 3",
   "language": "python",
   "name": "python3"
  },
  "language_info": {
   "codemirror_mode": {
    "name": "ipython",
    "version": 3
   },
   "file_extension": ".py",
   "mimetype": "text/x-python",
   "name": "python",
   "nbconvert_exporter": "python",
   "pygments_lexer": "ipython3",
   "version": "3.8.5"
  }
 },
 "nbformat": 4,
 "nbformat_minor": 4
}
